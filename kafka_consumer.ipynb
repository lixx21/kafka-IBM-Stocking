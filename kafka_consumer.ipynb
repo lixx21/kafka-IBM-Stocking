{
 "cells": [
  {
   "cell_type": "code",
   "execution_count": 30,
   "metadata": {},
   "outputs": [],
   "source": [
    "import pandas\n",
    "from kafka import KafkaConsumer\n",
    "from time import sleep\n",
    "from json import loads, dump"
   ]
  },
  {
   "cell_type": "code",
   "execution_count": 12,
   "metadata": {},
   "outputs": [],
   "source": [
    "consumer = KafkaConsumer(\"demo_kafka\",\n",
    "                         bootstrap_servers = [\"localhost:9092\"],\n",
    "                         value_deserializer = lambda x: loads(x.decode(\"utf-8\")))"
   ]
  },
  {
   "cell_type": "code",
   "execution_count": null,
   "metadata": {},
   "outputs": [],
   "source": [
    "#load real time data to json file\n",
    "for data in consumer:\n",
    "    with open(\"IBM-stock-market.json\", \"a\") as file:\n",
    "        dump(data.value, file)"
   ]
  }
 ],
 "metadata": {
  "kernelspec": {
   "display_name": "Python 3",
   "language": "python",
   "name": "python3"
  },
  "language_info": {
   "codemirror_mode": {
    "name": "ipython",
    "version": 3
   },
   "file_extension": ".py",
   "mimetype": "text/x-python",
   "name": "python",
   "nbconvert_exporter": "python",
   "pygments_lexer": "ipython3",
   "version": "3.8.0"
  }
 },
 "nbformat": 4,
 "nbformat_minor": 2
}
